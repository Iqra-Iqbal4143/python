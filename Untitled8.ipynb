{
 "cells": [
  {
   "cell_type": "code",
   "execution_count": 1,
   "id": "e2f756e8",
   "metadata": {},
   "outputs": [
    {
     "name": "stdout",
     "output_type": "stream",
     "text": [
      "Twinkle, twinkle, little star, \n",
      "\tHow I wonder what you are! \n",
      "\t\tUp above the world so high, \n",
      "\t\tLike a diamond in the sky. \n",
      "Twinkle, twinkle, little star, \n",
      "\tHow I wonder what you are!\n"
     ]
    }
   ],
   "source": [
    "## Write a Python program to print the following string in a specific format (see the output)\n",
    "print(\"Twinkle, twinkle, little star, \\n\\tHow I wonder what you are! \\n\\t\\tUp above the world so high, \\n\\t\\tLike a diamond in the sky. \\nTwinkle, twinkle, little star, \\n\\tHow I wonder what you are!\")"
   ]
  },
  {
   "cell_type": "code",
   "execution_count": 2,
   "id": "a43ce284",
   "metadata": {},
   "outputs": [
    {
     "name": "stdout",
     "output_type": "stream",
     "text": [
      "Python version\n",
      "3.8.8 (default, Apr 13 2021, 15:08:03) [MSC v.1916 64 bit (AMD64)]\n",
      "Version info.\n",
      "sys.version_info(major=3, minor=8, micro=8, releaselevel='final', serial=0)\n"
     ]
    }
   ],
   "source": [
    "##2. Write a Python program to get the Python version you are using\n",
    "import sys\n",
    "print(\"Python version\")\n",
    "print (sys.version)\n",
    "print(\"Version info.\")\n",
    "print (sys.version_info)"
   ]
  },
  {
   "cell_type": "code",
   "execution_count": 3,
   "id": "e8aad37e",
   "metadata": {},
   "outputs": [
    {
     "name": "stdout",
     "output_type": "stream",
     "text": [
      "Current date and time : \n",
      "2021-10-24 13:44:57\n"
     ]
    }
   ],
   "source": [
    "##3. Write a Python program to display the current date and time.\n",
    "import datetime\n",
    "now = datetime.datetime.now()\n",
    "print (\"Current date and time : \")\n",
    "print (now.strftime(\"%Y-%m-%d %H:%M:%S\"))"
   ]
  },
  {
   "cell_type": "markdown",
   "id": "badbbec8",
   "metadata": {},
   "source": []
  },
  {
   "cell_type": "code",
   "execution_count": 7,
   "id": "2eebfa86",
   "metadata": {},
   "outputs": [
    {
     "name": "stdout",
     "output_type": "stream",
     "text": [
      "Input the radius of the circle : 88\n",
      "The area of the circle with radius 88.0 is: 24328.49350939936\n"
     ]
    }
   ],
   "source": [
    "##4. Write a Python program which acceptsthe radius of a circle from the user and compute the area.\n",
    "from math import pi\n",
    "r = float(input (\"Input the radius of the circle : \"))\n",
    "print (\"The area of the circle with radius \" + str(r) + \" is: \" + str(pi * r**2))"
   ]
  },
  {
   "cell_type": "code",
   "execution_count": 8,
   "id": "210a4752",
   "metadata": {},
   "outputs": [
    {
     "name": "stdout",
     "output_type": "stream",
     "text": [
      "Input your First Name : iqra iqbal\n",
      "Input your Last Name : iqbal\n",
      "iqbal iqra iqbal\n"
     ]
    }
   ],
   "source": [
    "##5. Write a Python program which acceptsthe user'sfirst and last name and print them in reverse order with a space between them\n",
    "firstname = input(\"Input your First Name : \")\n",
    "lastname = input(\"Input your Last Name : \")\n",
    "print (lastname + \" \" + firstname)\n",
    "\n",
    "\n"
   ]
  },
  {
   "cell_type": "code",
   "execution_count": 9,
   "id": "afda1238",
   "metadata": {},
   "outputs": [
    {
     "name": "stdout",
     "output_type": "stream",
     "text": [
      "Enter first number: 3333\n",
      "Enter second number: 444\n",
      "3777.0\n"
     ]
    }
   ],
   "source": [
    "##6Write a python program which takestwo inputsfrom user and print them additio\n",
    "num1 = input('Enter first number: ')\n",
    "num2 = input('Enter second number: ')\n",
    "sum = float(num1) + float(num2)\n",
    "print(sum)"
   ]
  },
  {
   "cell_type": "code",
   "execution_count": 10,
   "id": "bdb34b4b",
   "metadata": {},
   "outputs": [
    {
     "name": "stdout",
     "output_type": "stream",
     "text": [
      "Enter Marks Obtained in English: \n",
      "88\n",
      "Enter Marks Obtained in Urdu: \n",
      "99\n",
      "Enter Marks Obtained in Maths: \n",
      "100\n",
      "Enter Marks Obtained in Chemistry: \n",
      "44\n",
      "Enter Marks Obtained in Bio: \n",
      "77\n",
      "Your Grade is A2\n"
     ]
    }
   ],
   "source": [
    "#7. Write a program which takes 5 inputsfrom user for differentsubject’s marks, total itand generate mark sheet using grades ?\n",
    "\n",
    "print(\"Enter Marks Obtained in English: \")\n",
    "eng = int(input()) \n",
    "print(\"Enter Marks Obtained in Urdu: \")\n",
    "urdu = int(input())\n",
    "print(\"Enter Marks Obtained in Maths: \")\n",
    "math = int(input())\n",
    "print(\"Enter Marks Obtained in Chemistry: \")\n",
    "che = int(input())\n",
    "print(\"Enter Marks Obtained in Bio: \") \n",
    "bio = int(input())\n",
    "tot = eng+urdu+math+che+bio\n",
    "avg = tot/5\n",
    "if avg>=91 and avg<=100:\n",
    " print(\"Your Grade is A1\")\n",
    "elif avg>=81 and avg<91:\n",
    " print(\"Your Grade is A2\")\n",
    "elif avg>=71 and avg<81:\n",
    " print(\"Your Grade is B1\")\n",
    "elif avg>=61 and avg<71:\n",
    " print(\"Your Grade is B2\")\n",
    "elif avg>=51 and avg<61:\n",
    " print(\"Your Grade is C1\")\n",
    "elif avg>=41 and avg<51:\n",
    " print(\"Your Grade is C2\")\n",
    "elif avg>=33 and avg<41:\n",
    " print(\"Your Grade is D\")\n",
    "elif avg>=21 and avg<33:\n",
    " print(\"Your Grade is E1\")\n",
    "elif avg>=0 and avg<21:\n",
    " print(\"Your Grade is E2\")\n",
    "else:\n",
    " print(\"Invalid Input!\")\n",
    "\n",
    "\n",
    "\n",
    "\n"
   ]
  },
  {
   "cell_type": "code",
   "execution_count": 11,
   "id": "7a0cc872",
   "metadata": {},
   "outputs": [
    {
     "name": "stdout",
     "output_type": "stream",
     "text": [
      "Enter a number: 6\n",
      "6 is Even\n"
     ]
    }
   ],
   "source": [
    "##8. Write a program which take input from user and identify that the given number is even or odd?\n",
    "num = int(input(\"Enter a number: \"))\n",
    "if (num % 2) == 0:\n",
    " print(\"{0} is Even\".format(num))\n",
    "else:\n",
    " print(\"{0} is Odd\".format(num))"
   ]
  },
  {
   "cell_type": "code",
   "execution_count": 12,
   "id": "efcae909",
   "metadata": {},
   "outputs": [
    {
     "name": "stdout",
     "output_type": "stream",
     "text": [
      "Largest element is: 99\n"
     ]
    }
   ],
   "source": [
    "##9. Write a program which print the length of the list?\n",
    "list1 = [10, 20, 4, 45, 99]\n",
    "# printing the maximum element\n",
    "print(\"Largest element is:\", max(list1))\n",
    "\n"
   ]
  },
  {
   "cell_type": "code",
   "execution_count": 24,
   "id": "59a12ba3",
   "metadata": {},
   "outputs": [
    {
     "ename": "TypeError",
     "evalue": "'float' object is not callable",
     "output_type": "error",
     "traceback": [
      "\u001b[1;31m---------------------------------------------------------------------------\u001b[0m",
      "\u001b[1;31mTypeError\u001b[0m                                 Traceback (most recent call last)",
      "\u001b[1;32m<ipython-input-24-79f87679e5b8>\u001b[0m in \u001b[0;36m<module>\u001b[1;34m\u001b[0m\n\u001b[0;32m      1\u001b[0m \u001b[1;31m##10. Write a Python program to sum all the numeric itemsin a list\u001b[0m\u001b[1;33m\u001b[0m\u001b[1;33m\u001b[0m\u001b[1;33m\u001b[0m\u001b[0m\n\u001b[0;32m      2\u001b[0m \u001b[0mlistRange\u001b[0m\u001b[1;33m=\u001b[0m \u001b[1;33m[\u001b[0m\u001b[1;36m42\u001b[0m\u001b[1;33m,\u001b[0m \u001b[1;36m45\u001b[0m\u001b[1;33m,\u001b[0m \u001b[1;36m78\u001b[0m\u001b[1;33m,\u001b[0m \u001b[1;36m20\u001b[0m\u001b[1;33m,\u001b[0m \u001b[1;36m20\u001b[0m\u001b[1;33m]\u001b[0m\u001b[1;33m\u001b[0m\u001b[1;33m\u001b[0m\u001b[0m\n\u001b[1;32m----> 3\u001b[1;33m \u001b[0mtotal\u001b[0m \u001b[1;33m=\u001b[0m \u001b[0msum\u001b[0m\u001b[1;33m(\u001b[0m\u001b[0mlistRange\u001b[0m\u001b[1;33m)\u001b[0m\u001b[1;33m\u001b[0m\u001b[1;33m\u001b[0m\u001b[0m\n\u001b[0m\u001b[0;32m      4\u001b[0m \u001b[0mprint\u001b[0m\u001b[1;33m(\u001b[0m\u001b[1;34m\"Sum of all elements in the list = \"\u001b[0m\u001b[1;33m,\u001b[0m\u001b[0mtotal\u001b[0m\u001b[1;33m)\u001b[0m\u001b[1;33m\u001b[0m\u001b[1;33m\u001b[0m\u001b[0m\n",
      "\u001b[1;31mTypeError\u001b[0m: 'float' object is not callable"
     ]
    }
   ],
   "source": [
    "##10. Write a Python program to sum all the numeric itemsin a list\n",
    "listRange= [42, 45, 78, 20, 20]\n",
    "total = sum(listRange)    \n",
    "print(\"Sum of all elements in the list = \",total)"
   ]
  },
  {
   "cell_type": "code",
   "execution_count": 20,
   "id": "6fa3def9",
   "metadata": {},
   "outputs": [
    {
     "name": "stdout",
     "output_type": "stream",
     "text": [
      "Largest element is: 99\n"
     ]
    }
   ],
   "source": [
    "##11. Write a Python program to get the largest number from a numeric list\n",
    "list1 = [10, 20, 4, 45, 99]\n",
    "print(\"Largest element is:\", max(list1))"
   ]
  },
  {
   "cell_type": "code",
   "execution_count": 21,
   "id": "1063ad47",
   "metadata": {},
   "outputs": [
    {
     "name": "stdout",
     "output_type": "stream",
     "text": [
      "1\n",
      "1\n",
      "2\n",
      "3\n"
     ]
    }
   ],
   "source": [
    "##12Write a program that prints out all the elements of the list that are lessthan 5\n",
    "##a = [1, 1, 2, 3, 5, 8, 13, 21, 34, 55, 89]\n",
    "\n",
    "a = [1, 1, 2, 3, 5, 8, 13, 21, 34, 55, 89]\n",
    "for i in a:\n",
    "    if i < 5:\n",
    "        print(i)"
   ]
  },
  {
   "cell_type": "code",
   "execution_count": null,
   "id": "5792013a",
   "metadata": {},
   "outputs": [],
   "source": []
  }
 ],
 "metadata": {
  "kernelspec": {
   "display_name": "Python 3",
   "language": "python",
   "name": "python3"
  },
  "language_info": {
   "codemirror_mode": {
    "name": "ipython",
    "version": 3
   },
   "file_extension": ".py",
   "mimetype": "text/x-python",
   "name": "python",
   "nbconvert_exporter": "python",
   "pygments_lexer": "ipython3",
   "version": "3.8.8"
  }
 },
 "nbformat": 4,
 "nbformat_minor": 5
}
